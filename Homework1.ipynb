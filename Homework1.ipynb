{
 "cells": [
  {
   "cell_type": "code",
   "execution_count": 1,
   "metadata": {
    "collapsed": true
   },
   "outputs": [],
   "source": [
    "%matplotlib inline\n",
    "\n",
    "import numpy as np\n",
    "import matplotlib.pyplot as plt"
   ]
  },
  {
   "cell_type": "code",
   "execution_count": 2,
   "metadata": {
    "collapsed": false
   },
   "outputs": [],
   "source": [
    "def getRandomLine():\n",
    "    \"\"\"\n",
    "    Generate a random line between the [-1.1,1.1] x-range\n",
    "    \n",
    "    \n",
    "    \"\"\"\n",
    "    p = np.random.uniform(-1,1,(2,2))\n",
    "    m = (p[0,1] - p[1,1])/(p[0,0]-p[1,0])\n",
    "    x = np.array([-1.1,1.1])\n",
    "    y = m*(x-p[0,0])+p[0,1]\n",
    "    return (x,y)\n",
    "\n",
    "def getLabels(D,l=-1,vec = np.array([[0],[0],[0]])):\n",
    "#     print(l[0],l[1])\n",
    "    if (l!=-1):\n",
    "        x = l[0]\n",
    "        y = l[1]\n",
    "        m = (y[0] - y[1])/(x[0]-x[1])\n",
    "        t1 = -(m*(D[:,0]-x[0])+y[0]-D[:,1])\n",
    "        return t1/abs(t1)\n",
    "    if (np.any(vec)):\n",
    "        A = np.hstack((np.ones([D.shape[0],1]),D))\n",
    "        t4_1 = np.matmul(A,vec)\n",
    "    #     print(\"Current W : {}\".format(w[:,0]))\n",
    "    #     print(t4_1)\n",
    "        t5_1 = [int(k) for k in (t4_1/abs(t4_1)).flatten().tolist()]\n",
    "        return t5_1\n",
    "        \n",
    "\n",
    "def vectoline(vec):\n",
    "    w = vec[:,0]\n",
    "#     print(w[0],w[1],w[2])\n",
    "    x = np.array([-1.1,1.1])\n",
    "    y = (-w[0]-w[1]*x)/w[2]\n",
    "    return (x,y)\n",
    "\n",
    "def draw(dat,lab=np.zeros(0),l=-1,col='gray',vec = np.array([[0],[0],[0]])):\n",
    "    plt.figure(figsize=(5,5))\n",
    "    plt.xlim([-1.1,1.1])\n",
    "    plt.ylim([-1.1,1.1])\n",
    "    if (l!=-1):\n",
    "        x = l[0]\n",
    "        y = l[1]\n",
    "        plt.plot([x[0], x[1]], [y[0], y[1]], color='k', linestyle='-', linewidth=2)\n",
    "    if (np.any(vec)):\n",
    "        l2 = vectoline(vec)\n",
    "        x = l2[0]\n",
    "        y = l2[1]\n",
    "        plt.plot([x[0], x[1]], [y[0], y[1]], color='g', linestyle='-', linewidth=2)\n",
    "    if (len(lab) != 0):\n",
    "        plt.scatter(dat[:,0], dat[:,1],c=lab,cmap=col)\n",
    "    else:\n",
    "        plt.scatter(dat[:,0], dat[:,1])\n",
    "    ax = plt.gca()\n",
    "    ax.set_axis_bgcolor('yellow')\n",
    "    plt.show()"
   ]
  },
  {
   "cell_type": "code",
   "execution_count": 3,
   "metadata": {
    "collapsed": false
   },
   "outputs": [],
   "source": [
    "def PLAStep(D,w_old,target):\n",
    "    A = np.hstack((np.ones([D.shape[0],1]),D))\n",
    "    t4 = np.matmul(A,w_old)[:,0]\n",
    "#     print(t4)\n",
    "    t4_1 = np.sign(t4)\n",
    "    check = t4_1 == target\n",
    "\n",
    "#     print(\"Matmul : {}\".format(t4))\n",
    "\n",
    "#     print(\"Y0 : {}\".format(target))\n",
    "#     print(\"Y1 : {}\".format(t4_1))\n",
    "#     print(\"Mismatches : {}\".format(check))\n",
    "\n",
    "\n",
    "\n",
    "    \n",
    "    idxs = np.argwhere(check == False).flatten()\n",
    "#     print(\"Mismatch at the following points {}\".format(idxs))\n",
    "    if idxs.shape[0] > 0:\n",
    "        idx = np.random.choice(idxs)\n",
    "#         print(\"Random index selected {}\".format(idx))\n",
    "        x_tmp = A[idx].reshape([3,1])\n",
    "    #     print(x_tmp[:,0],target[idx],(x_tmp*target[idx])[:,0])\n",
    "        w_new = w_old+x_tmp*target[idx]\n",
    "    #     print(w_old[:,0],(x_tmp*target[idx])[:,0],w_new[:,0])\n",
    "        return (w_new,idxs)\n",
    "    else:\n",
    "        return (w_old,idxs)\n",
    "\n",
    "def Pdraw(D,w,target):\n",
    "    print(\"Drawing regions\")\n",
    "    A = np.hstack((np.ones([D.shape[0],1]),D))\n",
    "    t4_1 = np.matmul(A,w)\n",
    "#     print(\"Current W : {}\".format(w[:,0]))\n",
    "#     print(t4_1)\n",
    "    t5_1 = [int(k) for k in (t4_1/abs(t4_1)).flatten().tolist()]\n",
    "    t7 = abs(t5_1+target)-1\n",
    "#     print(\"Y0 : {}\".format(target))\n",
    "#     print(\"Y1 : {}\".format(t5_1))\n",
    "#     print(t7)\n",
    "    draw(D,l=vectoline(w),lab=t7)\n",
    "\n",
    "# wcurr = w_init\n",
    "# idxs = [0]\n",
    "# for i in range(10):\n",
    "#     wnew = PLAStep(D,wcurr,target)\n",
    "#     wcurr = wnew\n",
    "# (wcurr,idxs) = PLAStep(D,w_init,target)\n",
    "# count = 0\n",
    "# while idxs.shape[0] >0:\n",
    "#     count = count+1\n",
    "# #     print(\"Returned index : {}\".format(idxs))\n",
    "#     (wnew,idxs) = PLAStep(D,wcurr,target)\n",
    "#     wcurr = wnew\n",
    "\n",
    "\n",
    "# print(\"Terminated in {} steps with W: {}\".format(count,wcurr))\n",
    "# Pdraw(D,wcurr)\n",
    "# # Pdraw(D,w1)\n",
    "# w2 = PLAStep(D,w1,target)\n",
    "# # Pdraw(D,w2)\n",
    "# w3 = PLAStep(D,w2,target)\n",
    "# # Pdraw(D,w3)\n",
    "# w4 = PLAStep(D,w3,target)\n",
    "# # Pdraw(D,w4)\n",
    "\n",
    "\n",
    "\n"
   ]
  },
  {
   "cell_type": "code",
   "execution_count": 4,
   "metadata": {
    "collapsed": false,
    "scrolled": true
   },
   "outputs": [
    {
     "name": "stdout",
     "output_type": "stream",
     "text": [
      "100.8433\n"
     ]
    }
   ],
   "source": [
    "def runExperiment1(k,numiter):\n",
    "    sum = 0.0\n",
    "    D = np.random.uniform(-1,1,(k,2))\n",
    "    for i in range(numiter):\n",
    "        l1 = getRandomLine()\n",
    "        target = getLabels(D,l=l1)\n",
    "        w_init = np.array([[0],[0],[0]])\n",
    "#         draw(D,lab=target,l=l1)\n",
    "\n",
    "\n",
    "        (wcurr,idxs) = PLAStep(D,w_init,target)\n",
    "        count = 0\n",
    "        while idxs.shape[0] >0:\n",
    "            count = count+1\n",
    "#     print(\"Returned index : {}\".format(idxs))\n",
    "            (wnew,idxs) = PLAStep(D,wcurr,target)\n",
    "            wcurr = wnew\n",
    "#         \n",
    "        sum = sum+count\n",
    "#     Pdraw(D,wcurr,target)\n",
    "    print (float(sum)/float(numiter))\n",
    "\n",
    "runExperiment1(100,10000)"
   ]
  },
  {
   "cell_type": "code",
   "execution_count": 144,
   "metadata": {
    "collapsed": false,
    "scrolled": false
   },
   "outputs": [
    {
     "name": "stdout",
     "output_type": "stream",
     "text": [
      "0.012984199999999986\n",
      " "
     ]
    }
   ],
   "source": [
    "def calcProb(k,numiter):\n",
    "    D = np.random.uniform(-1,1,(k,2))\n",
    "    sum = 0.0\n",
    "    for i in range(numiter):\n",
    "        l1 = getRandomLine()\n",
    "        target = getLabels(D,l=l1)\n",
    "        w_init = np.array([[0],[0],[0]])\n",
    "        (wcurr,idxs) = PLAStep(D,w_init,target)\n",
    "        count = 0\n",
    "        while idxs.shape[0] >0:\n",
    "            count = count+1\n",
    "            (wnew,idxs) = PLAStep(D,wcurr,target)\n",
    "            wcurr = wnew\n",
    "#         draw(D,l=l1,lab=target,vec=wcurr)\n",
    "        prob = calcProb1(l1,wcurr)\n",
    "        sum = sum + prob\n",
    "    print(float(sum)/float(numiter))\n",
    "\n",
    "%prun calcProb(100,1000)\n",
    "    "
   ]
  },
  {
   "cell_type": "code",
   "execution_count": 143,
   "metadata": {
    "collapsed": false
   },
   "outputs": [],
   "source": [
    "def calcProb1(line,vec1):\n",
    "    num = 10000\n",
    "    D = np.random.uniform(-1,1,(num,2))\n",
    "    lab1 = getLabels(D,l=line)\n",
    "    lab2 = getLabels(D,vec=vec1)\n",
    "    t7 = abs(lab1+lab2)-1\n",
    "    idxs = np.argwhere(t7 <0).flatten()\n",
    "    return(float(len(idxs))/float(num))\n",
    "#     draw(D,l=line,lab=lab2,col='Set1',vec=vec1)\n",
    "\n"
   ]
  },
  {
   "cell_type": "code",
   "execution_count": null,
   "metadata": {
    "collapsed": true
   },
   "outputs": [],
   "source": []
  }
 ],
 "metadata": {
  "kernelspec": {
   "display_name": "Python [Root]",
   "language": "python",
   "name": "Python [Root]"
  },
  "language_info": {
   "codemirror_mode": {
    "name": "ipython",
    "version": 3
   },
   "file_extension": ".py",
   "mimetype": "text/x-python",
   "name": "python",
   "nbconvert_exporter": "python",
   "pygments_lexer": "ipython3",
   "version": "3.5.2"
  }
 },
 "nbformat": 4,
 "nbformat_minor": 0
}
