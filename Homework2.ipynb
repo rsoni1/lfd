{
 "cells": [
  {
   "cell_type": "code",
   "execution_count": 176,
   "metadata": {
    "collapsed": true
   },
   "outputs": [],
   "source": [
    "%matplotlib inline\n",
    "\n",
    "import numpy as np\n",
    "import matplotlib.pyplot as plt\n",
    "import random\n",
    "import math\n",
    "from numpy.linalg import inv"
   ]
  },
  {
   "cell_type": "code",
   "execution_count": 134,
   "metadata": {
    "collapsed": false
   },
   "outputs": [
    {
     "name": "stdout",
     "output_type": "stream",
     "text": [
      "[ 0.5  0.5  0.5 ...,  0.3  0.4  0.2]\n",
      "1.0 1.0\n",
      "1.0 1.0\n",
      "1.0 1.0\n",
      "0.9048374180359595 0.34074\n",
      "0.9048374180359595 0.34393\n",
      "0.9048374180359595 1.0\n",
      "0.6703200460356392 0.22395\n",
      "0.6703200460356392 0.22749\n",
      "0.6703200460356392 1.0\n",
      "0.40656965974059917 0.10704\n",
      "0.40656965974059917 0.10906\n",
      "0.40656965974059917 1.0\n",
      "0.20189651799465536 0.02008\n",
      "0.20189651799465536 0.0218\n",
      "0.20189651799465536 0.99997\n",
      "0.0820849986238988 0.0017\n",
      "0.0820849986238988 0.00206\n",
      "0.0820849986238988 0.62449\n",
      "0.499712\n",
      "0.49936\n",
      "0.037554\n",
      "[   78   931  4386 11691 20623 24690 20613 11679  4310   907    92]\n",
      "[  105   996  4411 11843 20355 24759 20493 11644  4315   978   101]\n"
     ]
    },
    {
     "data": {
      "image/png": "[encoded data removed]",
      "text/plain": [
       "<matplotlib.figure.Figure at 0x110641710>"
      ]
     },
     "metadata": {},
     "output_type": "display_data"
    },
    {
     "data": {
      "image/png": "[encoded data removed]",
      "text/plain": [
       "<matplotlib.figure.Figure at 0x110cb06d8>"
      ]
     },
     "metadata": {},
     "output_type": "display_data"
    }
   ],
   "source": [
    "def coinflip():\n",
    "    numtries = 100000\n",
    "    numcoins = 1000\n",
    "    numflips = 10\n",
    "    \n",
    "    v_1 = np.zeros(numtries)\n",
    "    v_r = np.zeros(numtries)\n",
    "    v_m = np.zeros(numtries)\n",
    "\n",
    "\n",
    "\n",
    "#     print(v_1)\n",
    "    # Running the experiement and collecting stats for the 3 coins\n",
    "    for i in range(numtries):\n",
    "        D = np.sign(np.random.uniform(-1,1,(numcoins,10)))\n",
    "#         print(D)\n",
    "        hfrac = ((np.sum(D,1)+numflips)/float(2*numflips))\n",
    "#         print(hfrac)\n",
    "        v_1[i] = hfrac[0]\n",
    "        v_r[i] = hfrac[random.randint(0,999)]\n",
    "        v_m[i] = np.min(hfrac)\n",
    "        \n",
    "    print(v_1)\n",
    "    \n",
    "    # Calculating which of these track the Hoeffding's bund\n",
    "    for k in range(6):\n",
    "        t = k/10.0\n",
    "        print(math.exp(-(t**2)*10),sum(abs(v_1-0.5) >=t)/numtries)\n",
    "        print(math.exp(-(t**2)*10),sum(abs(v_r-0.5) >=t)/numtries)\n",
    "        print(math.exp(-(t**2)*10),sum(abs(v_m-0.5) >=t)/numtries)\n",
    "\n",
    "#         print(abs(v_1-0.5) >=t)\n",
    "#         print(sum(abs(v_1-0.5) >=t)/numtries)\n",
    "#     print(v_r)\n",
    "#     print(v_m)\n",
    "    \n",
    "    # Calculating averages for each\n",
    "    print(np.sum(v_1)/numtries)\n",
    "    print(np.sum(v_r)/numtries)\n",
    "    print(np.sum(v_m)/numtries)\n",
    "\n",
    "\n",
    "    print(np.bincount((v_1*10).astype(int)))\n",
    "    print(np.bincount((v_r*10).astype(int)))\n",
    "\n",
    "    plt.hist(v_1)\n",
    "    plt.show()\n",
    "\n",
    "    plt.hist(v_r)\n",
    "    plt.show()\n",
    "\n",
    "\n",
    "        \n",
    "\n",
    "coinflip()"
   ]
  },
  {
   "cell_type": "code",
   "execution_count": 138,
   "metadata": {
    "collapsed": false
   },
   "outputs": [],
   "source": [
    "def getRandomLine():\n",
    "    \"\"\"\n",
    "    Generate a random line between the [-1.1,1.1] x-range\n",
    "    \n",
    "    \n",
    "    \"\"\"\n",
    "    p = np.random.uniform(-1,1,(2,2))\n",
    "    m = (p[0,1] - p[1,1])/(p[0,0]-p[1,0])\n",
    "    x = np.array([-1.1,1.1])\n",
    "    y = m*(x-p[0,0])+p[0,1]\n",
    "    return (x,y)\n",
    "\n",
    "def getLabels(D,l=-1,vec = np.array([[0],[0],[0]])):\n",
    "#     print(l[0],l[1])\n",
    "    if (l!=-1):\n",
    "        x = l[0]\n",
    "        y = l[1]\n",
    "        m = (y[0] - y[1])/(x[0]-x[1])\n",
    "        t1 = -(m*(D[:,0]-x[0])+y[0]-D[:,1])\n",
    "        return t1/abs(t1)\n",
    "    if (np.any(vec)):\n",
    "        A = np.hstack((np.ones([D.shape[0],1]),D))\n",
    "        t4_1 = np.matmul(A,vec)\n",
    "    #     print(\"Current W : {}\".format(w[:,0]))\n",
    "    #     print(t4_1)\n",
    "        t5_1 = [int(k) for k in (t4_1/abs(t4_1)).flatten().tolist()]\n",
    "        return t5_1\n",
    "        \n",
    "\n",
    "def vectoline(vec):\n",
    "    w = vec[:,0]\n",
    "#     print(w[0],w[1],w[2])\n",
    "    x = np.array([-1.1,1.1])\n",
    "    y = (-w[0]-w[1]*x)/w[2]\n",
    "    return (x,y)\n",
    "\n",
    "def draw(dat,lab=np.zeros(0),l=-1,col='gray',vec = np.array([[0],[0],[0]])):\n",
    "    plt.figure(figsize=(5,5))\n",
    "    plt.xlim([-1.1,1.1])\n",
    "    plt.ylim([-1.1,1.1])\n",
    "    if (l!=-1):\n",
    "        x = l[0]\n",
    "        y = l[1]\n",
    "        plt.plot([x[0], x[1]], [y[0], y[1]], color='k', linestyle='-', linewidth=2)\n",
    "    if (np.any(vec)):\n",
    "        l2 = vectoline(vec)\n",
    "        x = l2[0]\n",
    "        y = l2[1]\n",
    "        plt.plot([x[0], x[1]], [y[0], y[1]], color='g', linestyle='-', linewidth=2)\n",
    "    if (len(lab) != 0):\n",
    "        plt.scatter(dat[:,0], dat[:,1],c=lab,cmap=col)\n",
    "    else:\n",
    "        plt.scatter(dat[:,0], dat[:,1])\n",
    "    ax = plt.gca()\n",
    "\n",
    "    plt.show()\n",
    "    \n",
    "60 45 30"
   ]
  },
  {
   "cell_type": "code",
   "execution_count": 230,
   "metadata": {
    "collapsed": false
   },
   "outputs": [],
   "source": [
    "def PLAStep(D,w_old,target):\n",
    "    A = np.hstack((np.ones([D.shape[0],1]),D))\n",
    "    t4 = np.matmul(A,w_old)[:,0]\n",
    "#     print(t4)\n",
    "    t4_1 = np.sign(t4)\n",
    "    check = t4_1 == target\n",
    "\n",
    "#     print(\"Matmul : {}\".format(t4))\n",
    "\n",
    "#     print(\"Y0 : {}\".format(target))\n",
    "#     print(\"Y1 : {}\".format(t4_1))\n",
    "#     print(\"Mismatches : {}\".format(check))\n",
    "\n",
    "\n",
    "\n",
    "    \n",
    "    idxs = np.argwhere(check == False).flatten()\n",
    "#     print(\"Mismatch at the following points {}\".format(idxs))\n",
    "    if idxs.shape[0] > 0:\n",
    "        idx = np.random.choice(idxs)\n",
    "#         print(\"Random index selected {}\".format(idx))\n",
    "        x_tmp = A[idx].reshape([3,1])\n",
    "    #     print(x_tmp[:,0],target[idx],(x_tmp*target[idx])[:,0])\n",
    "        w_new = w_old+x_tmp*target[idx]\n",
    "    #     print(w_old[:,0],(x_tmp*target[idx])[:,0],w_new[:,0])\n",
    "        return (w_new,idxs)\n",
    "    else:\n",
    "        return (w_old,idxs)\n",
    "\n",
    "def Pdraw(D,w,target):\n",
    "    print(\"Drawing regions\")\n",
    "    A = np.hstack((np.ones([D.shape[0],1]),D))\n",
    "    t4_1 = np.matmul(A,w)\n",
    "#     print(t4_1)\n",
    "#     print(\"Current W : {}\".format(w[:,0]))\n",
    "#     print(t4_1)\n",
    "    t5_1 = [int(k) for k in (t4_1/abs(t4_1)).flatten().tolist()]\n",
    "#     print(t5_1)\n",
    "#     print(target)\n",
    "    t7 = abs(t5_1+target)-1\n",
    "    t7_1 = t5_1==target\n",
    "#     print(t7_1)\n",
    "#     print(\"Y0 : {}\".format(target))\n",
    "#     print(\"Y1 : {}\".format(t5_1))\n",
    "#     print(t7)\n",
    "    draw(D,l=vectoline(w),lab=t7_1)\n",
    "\n",
    "# wcurr = w_init\n",
    "# idxs = [0]\n",
    "# for i in range(10):\n",
    "#     wnew = PLAStep(D,wcurr,target)\n",
    "#     wcurr = wnew\n",
    "# (wcurr,idxs) = PLAStep(D,w_init,target)\n",
    "# count = 0\n",
    "# while idxs.shape[0] >0:\n",
    "#     count = count+1\n",
    "# #     print(\"Returned index : {}\".format(idxs))\n",
    "#     (wnew,idxs) = PLAStep(D,wcurr,target)\n",
    "#     wcurr = wnew\n",
    "\n",
    "\n",
    "# print(\"Terminated in {} steps with W: {}\".format(count,wcurr))\n",
    "# Pdraw(D,wcurr)\n",
    "# # Pdraw(D,w1)\n",
    "# w2 = PLAStep(D,w1,target)\n",
    "# # Pdraw(D,w2)\n",
    "# w3 = PLAStep(D,w2,target)\n",
    "# # Pdraw(D,w3)\n",
    "# w4 = PLAStep(D,w3,target)\n",
    "# # Pdraw(D,w4)\n",
    "\n",
    "\n",
    "\n"
   ]
  },
  {
   "cell_type": "code",
   "execution_count": 356,
   "metadata": {
    "collapsed": false
   },
   "outputs": [],
   "source": [
    "def linearRegress(D,y):\n",
    "    return (np.matmul(np.matmul(inv(np.matmul(D.T,D)),D.T),y))"
   ]
  },
  {
   "cell_type": "code",
   "execution_count": 395,
   "metadata": {
    "collapsed": true
   },
   "outputs": [],
   "source": [
    "def linE_in(D,w,target):\n",
    "    actual = (np.sign(np.matmul(D,w))).flatten()\n",
    "    hits = actual == target\n",
    "    return (sum(hits)/target.shape)\n",
    "# #     t4_1 = np.matmul(D,w)\n",
    "#     print(t4_1)\n",
    "#     print(np.sign(t4_1))\n",
    "# #     t5_1 = [int(k) for k in (t4_1/abs(t4_1)).flatten().tolist()]\n",
    "#     t7_1 = t5_1==target\n",
    "#     return (sum(t7_1)/target.shape)\n",
    "\n",
    "  "
   ]
  },
  {
   "cell_type": "code",
   "execution_count": 264,
   "metadata": {
    "collapsed": false,
    "scrolled": false
   },
   "outputs": [
    {
     "name": "stdout",
     "output_type": "stream",
     "text": [
      "0.03986\n",
      "0.047804\n"
     ]
    }
   ],
   "source": [
    "def runExperiment1(k1,k2,numiter):\n",
    "    v_ein = np.zeros(numiter)\n",
    "    v_eout = np.zeros(numiter)\n",
    "\n",
    "    for ix in range(numiter):\n",
    "        D = np.random.uniform(-1,1,(k1,2))\n",
    "        l1 = getRandomLine()\n",
    "        target = getLabels(D,l=l1)\n",
    "#         draw(D,l=l1,lab=target)\n",
    "        X = np.hstack((np.ones([D.shape[0],1]),D))\n",
    "        wcurr = linearRegress(X,target.reshape((k1,1)))\n",
    "#         Pdraw(D,wcurr,target)\n",
    "        v_ein[ix] = linE_in(X,wcurr,target)\n",
    "        D2 = np.random.uniform(-1,1,(k2,2))\n",
    "        X2 = np.hstack((np.ones([D2.shape[0],1]),D2))\n",
    "        target2 = getLabels(D2,l=l1)\n",
    "        v_eout[ix] = linE_in(X2,wcurr,target2)\n",
    "    print(1 - sum(v_ein)/numiter)\n",
    "    print(1 - sum(v_eout)/numiter)\n",
    "\n",
    "\n",
    "runExperiment1(100,1000,1000)"
   ]
  },
  {
   "cell_type": "code",
   "execution_count": 281,
   "metadata": {
    "collapsed": false,
    "scrolled": false
   },
   "outputs": [
    {
     "name": "stdout",
     "output_type": "stream",
     "text": [
      "3.872\n"
     ]
    }
   ],
   "source": [
    "def runExperiment2(k1,numiter):\n",
    "    sum1 = 0\n",
    "    for ix in range(numiter):\n",
    "        D = np.random.uniform(-1,1,(k1,2))\n",
    "        l1 = getRandomLine()\n",
    "        target = getLabels(D,l=l1)\n",
    "#         draw(D,l=l1,lab=target)\n",
    "        X = np.hstack((np.ones([D.shape[0],1]),D))\n",
    "        w_init = linearRegress(X,target.reshape((k1,1)))\n",
    "#         draw(D,l=l1,lab=target)\n",
    "#         Pdraw(D,w_init,target)\n",
    "        (wcurr,idxs) = PLAStep(D,w_init,target)\n",
    "        count = 0\n",
    "        while idxs.shape[0] >0:\n",
    "            count = count+1\n",
    "#     print(\"Returned index : {}\".format(idxs))\n",
    "            (wnew,idxs) = PLAStep(D,wcurr,target)\n",
    "            wcurr = wnew\n",
    "#         Pdraw(D,wcurr,target)\n",
    "        sum1 = sum1+count\n",
    "    print(sum1/numiter)\n",
    "\n",
    "\n",
    "\n",
    "#         Pdraw(D,wcurr,target)\n",
    "\n",
    "\n",
    "runExperiment2(10,1000)"
   ]
  },
  {
   "cell_type": "code",
   "execution_count": 312,
   "metadata": {
    "collapsed": false
   },
   "outputs": [
    {
     "name": "stdout",
     "output_type": "stream",
     "text": [
      "0.494171\n"
     ]
    }
   ],
   "source": [
    "def runExperiment3(k1,numiter):\n",
    "    v_ein = np.zeros(numiter)\n",
    "\n",
    "    for ix in range(numiter):\n",
    "        D = np.random.uniform(-1,1,(k1,2))\n",
    "        target = (np.sign(D[:,0]**2+D[:,1]**2-0.6))\n",
    "#         draw(D,lab=target)\n",
    "        for idx in (np.random.choice(k1,size=math.floor(k1/10),replace=False)):\n",
    "            target[idx] = -target[idx]\n",
    "#         draw(D,lab=target)\n",
    "        X = np.hstack((np.ones([D.shape[0],1]),D))\n",
    "        wcurr = linearRegress(X,target.reshape((k1,1)))\n",
    "        v_ein[ix] = linE_in(X,wcurr,target)\n",
    "    print(sum(v_ein)/numiter)\n",
    "\n",
    "\n",
    "        \n",
    "\n",
    "runExperiment3(1000,1000)"
   ]
  },
  {
   "cell_type": "code",
   "execution_count": 432,
   "metadata": {
    "collapsed": false
   },
   "outputs": [
    {
     "name": "stdout",
     "output_type": "stream",
     "text": [
      "E_in in w: 0.1242019999999999\n",
      "E_in in w1: 0.1433630000000003\n",
      "E_in in w2: 0.34883600000000037\n",
      "E_in in w3: 0.3493920000000004\n",
      "E_in in w4: 0.36049499999999957\n",
      "E_in in w5: 0.4745740000000006\n",
      "E_out in w: 0.126462\n"
     ]
    }
   ],
   "source": [
    "def transform1(D):\n",
    "    X = np.hstack((np.ones([D.shape[0],1]),\n",
    "                   D,\n",
    "                   ((D[:,0]*(D[:,1])).reshape((D.shape[0],1))),\n",
    "                   ((D[:,0].reshape((D.shape[0],1)))**2),\n",
    "                   ((D[:,1].reshape((D.shape[0],1)))**2)\n",
    "                  ))\n",
    "    return X\n",
    "\n",
    "def vizregion(w):\n",
    "    num = 10000\n",
    "    D = np.random.uniform(-1,1,(num,2))\n",
    "    D1 = transform1(D)\n",
    "    target  = (np.sign(np.matmul(D1,w))).flatten()\n",
    "    draw(D,lab=target)\n",
    "\n",
    "\n",
    "    \n",
    "def runExperiment4(k1,k2,numiter):\n",
    "    v_ein = np.zeros(numiter)\n",
    "    v_ein1 = np.zeros(numiter)\n",
    "    v_ein2 = np.zeros(numiter)\n",
    "    v_ein3 = np.zeros(numiter)\n",
    "    v_ein4 = np.zeros(numiter)\n",
    "    v_ein5 = np.zeros(numiter)\n",
    "\n",
    "    v_eout = np.zeros(numiter)\n",
    "\n",
    "\n",
    "    w1 = np.array([[-1],[-0.05],[0.08],[0.13],[1.5],[1.5]])\n",
    "\n",
    "    w2 = np.array([[-1],[-0.05],[0.08],[0.13],[1.5],[15]])\n",
    "\n",
    "    w3 = np.array([[-1],[-0.05],[0.08],[0.13],[15],[1.5]])\n",
    "\n",
    "    w4 = np.array([[-1],[-1.5],[0.08],[0.13],[1.5],[1.5]])\n",
    "\n",
    "    w5 = np.array([[-1],[-0.05],[0.08],[1.5],[0.15],[0.15]])\n",
    "\n",
    "    for ix in range(numiter):\n",
    "        #Generate k1 random points uniform on ([-1,1] X [-1,1])\n",
    "        D = np.random.uniform(-1,1,(k1,2))\n",
    "        target = (np.sign(D[:,0]**2+D[:,1]**2-0.6))\n",
    "    #     draw(D,lab=target)\n",
    "        for idx in (np.random.choice(k1,size=math.floor(k1/10),replace=False)):\n",
    "            target[idx] = -target[idx]\n",
    "#         draw(D,lab=target)\n",
    "        D1 = transform1(D)\n",
    "#         print(D)\n",
    "\n",
    "        D2 = np.random.uniform(-1,1,(k2,2))\n",
    "        target2 = (np.sign(D2[:,0]**2+D2[:,1]**2-0.6))\n",
    "    #     draw(D,lab=target)\n",
    "        for idx in (np.random.choice(k2,size=math.floor(k2/10),replace=False)):\n",
    "            target2[idx] = -target2[idx]\n",
    "#         draw(D2,lab=target2)\n",
    "        D3 = transform1(D2)\n",
    "\n",
    "\n",
    "        wcurr = linearRegress(D1,target.reshape((k1,1)))\n",
    "#         vizregion(wcurr)\n",
    "        \n",
    "        v_ein[ix] = 1 - linE_in(D1,wcurr,target)\n",
    "        v_ein1[ix] = 1 - linE_in(D1,w1,target)\n",
    "        v_ein2[ix] = 1 - linE_in(D1,w2,target)\n",
    "        v_ein3[ix] = 1 - linE_in(D1,w3,target)\n",
    "        v_ein4[ix] = 1 - linE_in(D1,w4,target)\n",
    "        v_ein5[ix] = 1 - linE_in(D1,w5,target)\n",
    "        v_eout[ix] = 1 - linE_in(D3,wcurr,target2)\n",
    "        \n",
    "    print(\"E_in in w: {}\".format(sum(v_ein)/numiter))\n",
    "    print(\"E_in in w1: {}\".format(sum(v_ein1)/numiter))\n",
    "    print(\"E_in in w2: {}\".format(sum(v_ein2)/numiter))\n",
    "    print(\"E_in in w3: {}\".format(sum(v_ein3)/numiter))\n",
    "    print(\"E_in in w4: {}\".format(sum(v_ein4)/numiter))\n",
    "    print(\"E_in in w5: {}\".format(sum(v_ein5)/numiter))\n",
    "    print(\"E_out in w: {}\".format(sum(v_eout)/numiter))\n",
    "\n",
    "\n",
    "                \n",
    "runExperiment4(1000,1000,1000)"
   ]
  }
 ],
 "metadata": {
  "kernelspec": {
   "display_name": "Python [Root]",
   "language": "python",
   "name": "Python [Root]"
  },
  "language_info": {
   "codemirror_mode": {
    "name": "ipython",
    "version": 3
   },
   "file_extension": ".py",
   "mimetype": "text/x-python",
   "name": "python",
   "nbconvert_exporter": "python",
   "pygments_lexer": "ipython3",
   "version": "3.5.2"
  }
 },
 "nbformat": 4,
 "nbformat_minor": 0
}
