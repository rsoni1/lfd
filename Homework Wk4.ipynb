{
 "cells": [
  {
   "cell_type": "code",
   "execution_count": 33,
   "metadata": {
    "collapsed": true
   },
   "outputs": [],
   "source": [
    "%matplotlib inline\n",
    "\n",
    "import numpy as np\n",
    "import matplotlib.pyplot as plt\n",
    "from scipy.special import comb\n",
    "import math\n"
   ]
  },
  {
   "cell_type": "code",
   "execution_count": 269,
   "metadata": {
    "collapsed": false
   },
   "outputs": [],
   "source": [
    "from numpy.linalg import inv\n",
    "def linearRegress(D,y):\n",
    "    return (np.matmul(np.matmul(inv(np.matmul(D.T,D)),D.T),y))"
   ]
  },
  {
   "cell_type": "code",
   "execution_count": 453,
   "metadata": {
    "collapsed": true
   },
   "outputs": [],
   "source": [
    "def grfn(N,dVC):\n",
    "#     print(N)\n",
    "\n",
    "#     sum = 0\n",
    "#     for i in range(dVC+1):\n",
    "#         sum = sum+comb(N,i)\n",
    "# #     print(sum)\n",
    "# #     print(math.pow(N,dVC))\n",
    "#     return(sum)\n",
    "    return(math.pow(N,dVC))\n",
    "        \n",
    "def vcbnd(N,dVC,delta):\n",
    "#     v1 = math.sqrt((math.log(4*grfn(2*N,dVC)/delta)*8)/N)\n",
    "#     v2 = math.sqrt(((math.log(4/delta)+dVC*math.log(2*N))*8)/N)\n",
    "#     print(v1)\n",
    "#     print(v2)\n",
    "    return(math.sqrt(((math.log(4/delta)+dVC*math.log(2*N))*8)/N))\n",
    "\n",
    "#     return(math.sqrt((math.log(4*grfn(2*N,dVC)/delta)*8)/N))\n",
    "    \n",
    "def RPbnd(N,dVC,delta):\n",
    "    return(math.sqrt((2*math.log(2*N*grfn(N,dVC)))/N)+math.sqrt((2*math.log(1/delta))/N)+(1/N))\n",
    "\n",
    "def PVdBbnd(N,dVC,delta):\n",
    "    e1=0.00000001\n",
    "    tol = 10000000\n",
    "    while (tol > 0.00000000001):\n",
    "        e2 = (math.sqrt((2*e1+math.log((6*grfn(2*N,dVC))/delta))/N))\n",
    "        tol = abs(e2 - e1)\n",
    "#         print(\"Step {} : {} : diff : {}\".format(i,e2,e2-e1))\n",
    "        e1 = e2\n",
    "#     print(\"-----------\")\n",
    "    return(e1)\n",
    "\n",
    "def Dbnd(N,dVC,delta):\n",
    "    e1=0.00000001\n",
    "    tol = 10000000\n",
    "    while (tol > 0.00000000001):\n",
    "#         v1 = math.sqrt(((4*e1*(1+e1))+(math.log((4*grfn(N*N,dVC))/delta)))/(2*N))\n",
    "#         v2 = math.sqrt(((4*e1*(1+e1))+(math.log(4/delta)+(2*dVC*math.log(N))))/(2*N))\n",
    "#         print(v1)\n",
    "#         print(v2)\n",
    "#         print(\"----------\")\n",
    "#         e2 = math.sqrt(((4*e1*(1+e1))+(math.log((4*grfn(N*N,dVC))/delta)))/(2*N))\n",
    "        e2 = math.sqrt(((4*e1*(1+e1))+(math.log(4/delta)+(2*dVC*math.log(N))))/(2*N))\n",
    "\n",
    "        tol = abs(e2 - e1)\n",
    "#         print(\"Step {} : {} : diff : {}\".format(i,e2,e2-e1))\n",
    "        e1 = e2\n",
    "#     print(\"-----------\")\n",
    "    return(e1)\n",
    "\n",
    "\n",
    "\n",
    "def solveN(e,dVC,delta):\n",
    "    N = 100\n",
    "    for i in range(10):\n",
    "        N = ((8/e**2)*math.log(4*grfn(2*N,dVC)/delta))\n",
    "        print(\"Step {} : {}\".format(i,N))\n",
    "    "
   ]
  },
  {
   "cell_type": "code",
   "execution_count": 454,
   "metadata": {
    "collapsed": false
   },
   "outputs": [
    {
     "name": "stdout",
     "output_type": "stream",
     "text": [
      "[   1000.    2000.    3000.    4000.    5000.    6000.    7000.    8000.\n",
      "    9000.   10000.   11000.   12000.   13000.   14000.   15000.   16000.\n",
      "   17000.   18000.   19000.   20000.   21000.   22000.   23000.   24000.\n",
      "   25000.   26000.   27000.   28000.   29000.   30000.   31000.   32000.\n",
      "   33000.   34000.   35000.   36000.   37000.   38000.   39000.   40000.\n",
      "   41000.   42000.   43000.   44000.   45000.   46000.   47000.   48000.\n",
      "   49000.   50000.   51000.   52000.   53000.   54000.   55000.   56000.\n",
      "   57000.   58000.   59000.   60000.   61000.   62000.   63000.   64000.\n",
      "   65000.   66000.   67000.   68000.   69000.   70000.   71000.   72000.\n",
      "   73000.   74000.   75000.   76000.   77000.   78000.   79000.   80000.\n",
      "   81000.   82000.   83000.   84000.   85000.   86000.   87000.   88000.\n",
      "   89000.   90000.   91000.   92000.   93000.   94000.   95000.   96000.\n",
      "   97000.   98000.   99000.  100000.]\n",
      "[ 1.75368674  1.29473474  1.08241429  0.95261941  0.86246071  0.79499696\n",
      "  0.74198395  0.69885566  0.66284798  0.63217492  0.60562329  0.5823358\n",
      "  0.56168681  0.54320741  0.52653821  0.51139837  0.49756481  0.48485771\n",
      "  0.47313027  0.4622613   0.45214969  0.44271036  0.43387109  0.42557014\n",
      "  0.41775435  0.41037768  0.40339999  0.39678615  0.39050522  0.38452985\n",
      "  0.37883574  0.37340124  0.36820697  0.36323552  0.35847122  0.35389989\n",
      "  0.3495087   0.34528599  0.3412211   0.33730435  0.33352683  0.32988039\n",
      "  0.32635753  0.32295134  0.31965545  0.31646395  0.31337138  0.31037268\n",
      "  0.30746313  0.30463836  0.30189426  0.29922704  0.29663312  0.29410916\n",
      "  0.29165205  0.28925884  0.28692678  0.28465328  0.2824359   0.28027234\n",
      "  0.27816043  0.27609813  0.2740835   0.27211471  0.27019002  0.2683078\n",
      "  0.26646649  0.26466461  0.26290076  0.2611736   0.25948185  0.25782433\n",
      "  0.25619986  0.25460736  0.25304578  0.25151411  0.25001141  0.24853676\n",
      "  0.24708929  0.24566817  0.24427259  0.24290179  0.24155504  0.24023163\n",
      "  0.2389309   0.23765218  0.23639487  0.23515836  0.23394208  0.23274548\n",
      "  0.23156802  0.2304092   0.22926852  0.22814551  0.22703971  0.22595069\n",
      "  0.22487801  0.22382127  0.22278007  0.22175404]\n",
      "[ 0.91862912  0.67840194  0.56720923  0.49921833  0.451983    0.41663419\n",
      "  0.388855    0.36625416  0.34738394  0.33130879  0.31739318  0.30518798\n",
      "  0.29436542  0.28467981  0.27594284  0.26800736  0.26075647  0.25409595\n",
      "  0.24794887  0.24225172  0.23695151  0.23200367  0.22737033  0.22301915\n",
      "  0.21892225  0.21505552  0.21139792  0.20793103  0.20463863  0.2015064\n",
      "  0.1985216   0.19567288  0.19295007  0.19034407  0.18784664  0.18545038\n",
      "  0.18314853  0.180935    0.1788042   0.17675105  0.17477088  0.17285942\n",
      "  0.17101275  0.16922723  0.16749953  0.16582655  0.16420543  0.16263351\n",
      "  0.16110833  0.15962759  0.15818914  0.15679099  0.15543126  0.15410821\n",
      "  0.1528202   0.15156568  0.15034323  0.14915146  0.14798912  0.14685499\n",
      "  0.14574794  0.14466689  0.14361083  0.1425788   0.14156989  0.14058324\n",
      "  0.13961804  0.13867351  0.13774891  0.13684354  0.13595675  0.13508788\n",
      "  0.13423635  0.13340158  0.13258301  0.13178013  0.13099243  0.13021943\n",
      "  0.12946069  0.12871575  0.12798421  0.12726565  0.1265597   0.12586599\n",
      "  0.12518417  0.12451388  0.12385482  0.12320666  0.12256911  0.12194187\n",
      "  0.12132466  0.12071723  0.12011931  0.11953065  0.11895101  0.11838017\n",
      "  0.11781789  0.11726397  0.1167182   0.11618037]\n",
      "[ 0.62134959  0.45847952  0.38320127  0.33720236  0.30525892  0.28136077\n",
      "  0.26258422  0.24731036  0.23455939  0.22369829  0.21429715  0.20605219\n",
      "  0.19874173  0.19219965  0.18629864  0.1809392   0.17604234  0.17154434\n",
      "  0.16739323  0.16354607  0.15996706  0.15662607  0.15349753  0.15055957\n",
      "  0.14779337  0.14518262  0.14271311  0.14037241  0.13814956  0.13603487\n",
      "  0.13401974  0.13209651  0.13025831  0.12849899  0.12681298  0.12519529\n",
      "  0.12364135  0.12214704  0.1207086   0.11932259  0.11798586  0.11669552\n",
      "  0.11544892  0.11424362  0.11307735  0.11194803  0.11085372  0.10979263\n",
      "  0.1087631   0.10776356  0.10679259  0.10584881  0.10493098  0.10403791\n",
      "  0.1031685   0.1023217   0.10149654  0.1006921   0.09990753  0.099142\n",
      "  0.09839475  0.09766505  0.09695223  0.09625562  0.09557463  0.09490866\n",
      "  0.09425717  0.09361963  0.09299555  0.09238446  0.09178589  0.09119944\n",
      "  0.09062468  0.09006124  0.08950874  0.08896682  0.08843515  0.08791341\n",
      "  0.08740129  0.08689849  0.08640472  0.08591973  0.08544325  0.08497502\n",
      "  0.08451482  0.08406241  0.08361758  0.0831801   0.08274979  0.08232643\n",
      "  0.08190985  0.08149987  0.0810963   0.08069899  0.08030777  0.07992248\n",
      "  0.07954298  0.07916911  0.07880075  0.07843775]\n",
      "[ 0.59115142  0.43789006  0.36674782  0.32316741  0.29285078  0.27013977\n",
      "  0.25227709  0.23773393  0.22558392  0.21522805  0.20625914  0.19838926\n",
      "  0.19140821  0.18515834  0.17951876  0.174395    0.16971195  0.16540907\n",
      "  0.16143692  0.15775466  0.15432822  0.15112891  0.14813238  0.1453178\n",
      "  0.14266725  0.14016518  0.13779805  0.135554    0.13342259  0.13139457\n",
      "  0.12946174  0.12761678  0.12585315  0.12416497  0.12254694  0.12099426\n",
      "  0.1195026   0.11806801  0.1166869   0.11535598  0.11407224  0.11283293\n",
      "  0.11163551  0.11047764  0.10935717  0.10827208  0.10722055  0.10620085\n",
      "  0.10521139  0.10425068  0.10331733  0.10241007  0.10152767  0.10066902\n",
      "  0.09983305  0.09901876  0.09822522  0.09745156  0.09669695  0.09596061\n",
      "  0.09524181  0.09453984  0.09385406  0.09318385  0.09252861  0.09188779\n",
      "  0.09126087  0.09064734  0.09004672  0.08945857  0.08888245  0.08831795\n",
      "  0.08776468  0.08722228  0.08669038  0.08616864  0.08565675  0.08515439\n",
      "  0.08466126  0.08417709  0.0837016   0.08323454  0.08277565  0.08232469\n",
      "  0.08188144  0.08144568  0.08101719  0.08059578  0.08018124  0.0797734\n",
      "  0.07937206  0.07897706  0.07858823  0.07820541  0.07782845  0.07745719\n",
      "  0.07709148  0.0767312   0.07637621  0.07602637]\n"
     ]
    },
    {
     "data": {
      "image/png": "[encoded data removed]",
      "text/plain": [
       "<matplotlib.figure.Figure at 0x1117d8908>"
      ]
     },
     "metadata": {},
     "output_type": "display_data"
    }
   ],
   "source": [
    "def hw2():\n",
    "    iterations = 100\n",
    "    dVC = 50\n",
    "    delta = 0.05\n",
    "    scale = 1000\n",
    "    \n",
    "    Nval = np.zeros(iterations)\n",
    "    vcval = np.zeros(iterations)\n",
    "    rpval = np.zeros(iterations)\n",
    "    pvdbval = np.zeros(iterations)\n",
    "    dval = np.zeros(iterations)\n",
    "\n",
    "\n",
    "    for i in range(iterations):\n",
    "#         print(i)\n",
    "        Nval[i] = (i+1)*scale\n",
    "        vcval[i] = (vcbnd(Nval[i],dVC,delta))\n",
    "        rpval[i] = (RPbnd(Nval[i],dVC,delta))\n",
    "        pvdbval[i] = PVdBbnd(Nval[i],dVC,delta)\n",
    "        dval[i] = Dbnd(Nval[i],dVC,delta)\n",
    "\n",
    "\n",
    "    print(Nval)\n",
    "    print(vcval)\n",
    "    print(rpval)\n",
    "    print(pvdbval)\n",
    "    print(dval)\n",
    "    \n",
    "    plt.plot(Nval,vcval,c='r',label='VC Bound')\n",
    "    plt.plot(Nval,rpval,c='b',label='RP Bound')\n",
    "    plt.plot(Nval,pvdbval,c='g',label='PVdB Bound')\n",
    "    plt.plot(Nval,dval,c='black',label='Devroye Bound')\n",
    "    \n",
    "    plt.legend()\n",
    "    plt.show()\n",
    "    \n",
    "hw2()"
   ]
  },
  {
   "cell_type": "code",
   "execution_count": 474,
   "metadata": {
    "collapsed": false
   },
   "outputs": [
    {
     "name": "stdout",
     "output_type": "stream",
     "text": [
      "VC Bound : 0.07641020421702248\n",
      "RP Bound : 0.04000628097861811\n"
     ]
    },
    {
     "ename": "OverflowError",
     "evalue": "math range error",
     "output_type": "error",
     "traceback": [
      "\u001b[0;31m---------------------------------------------------------------------------\u001b[0m",
      "\u001b[0;31mOverflowError\u001b[0m                             Traceback (most recent call last)",
      "\u001b[0;32m<ipython-input-474-f378462c3894>\u001b[0m in \u001b[0;36m<module>\u001b[0;34m()\u001b[0m\n\u001b[1;32m     10\u001b[0m \u001b[0;34m\u001b[0m\u001b[0m\n\u001b[1;32m     11\u001b[0m     \u001b[0mprint\u001b[0m\u001b[0;34m(\u001b[0m\u001b[0;34m\"D Bound : {}\"\u001b[0m\u001b[0;34m.\u001b[0m\u001b[0mformat\u001b[0m\u001b[0;34m(\u001b[0m\u001b[0mDbnd\u001b[0m\u001b[0;34m(\u001b[0m\u001b[0mN\u001b[0m\u001b[0;34m,\u001b[0m\u001b[0mdVC\u001b[0m\u001b[0;34m,\u001b[0m\u001b[0mdelta\u001b[0m\u001b[0;34m)\u001b[0m\u001b[0;34m)\u001b[0m\u001b[0;34m)\u001b[0m\u001b[0;34m\u001b[0m\u001b[0m\n\u001b[0;32m---> 12\u001b[0;31m \u001b[0mhw3\u001b[0m\u001b[0;34m(\u001b[0m\u001b[0;34m)\u001b[0m\u001b[0;34m\u001b[0m\u001b[0m\n\u001b[0m",
      "\u001b[0;32m<ipython-input-474-f378462c3894>\u001b[0m in \u001b[0;36mhw3\u001b[0;34m()\u001b[0m\n\u001b[1;32m      7\u001b[0m     \u001b[0mprint\u001b[0m\u001b[0;34m(\u001b[0m\u001b[0;34m\"RP Bound : {}\"\u001b[0m\u001b[0;34m.\u001b[0m\u001b[0mformat\u001b[0m\u001b[0;34m(\u001b[0m\u001b[0mRPbnd\u001b[0m\u001b[0;34m(\u001b[0m\u001b[0mN\u001b[0m\u001b[0;34m,\u001b[0m\u001b[0mdVC\u001b[0m\u001b[0;34m,\u001b[0m\u001b[0mdelta\u001b[0m\u001b[0;34m)\u001b[0m\u001b[0;34m)\u001b[0m\u001b[0;34m)\u001b[0m\u001b[0;34m\u001b[0m\u001b[0m\n\u001b[1;32m      8\u001b[0m \u001b[0;34m\u001b[0m\u001b[0m\n\u001b[0;32m----> 9\u001b[0;31m     \u001b[0mprint\u001b[0m\u001b[0;34m(\u001b[0m\u001b[0;34m\"PVdB Bound : {}\"\u001b[0m\u001b[0;34m.\u001b[0m\u001b[0mformat\u001b[0m\u001b[0;34m(\u001b[0m\u001b[0mPVdBbnd\u001b[0m\u001b[0;34m(\u001b[0m\u001b[0mN\u001b[0m\u001b[0;34m,\u001b[0m\u001b[0mdVC\u001b[0m\u001b[0;34m,\u001b[0m\u001b[0mdelta\u001b[0m\u001b[0;34m)\u001b[0m\u001b[0;34m)\u001b[0m\u001b[0;34m)\u001b[0m\u001b[0;34m\u001b[0m\u001b[0m\n\u001b[0m\u001b[1;32m     10\u001b[0m \u001b[0;34m\u001b[0m\u001b[0m\n\u001b[1;32m     11\u001b[0m     \u001b[0mprint\u001b[0m\u001b[0;34m(\u001b[0m\u001b[0;34m\"D Bound : {}\"\u001b[0m\u001b[0;34m.\u001b[0m\u001b[0mformat\u001b[0m\u001b[0;34m(\u001b[0m\u001b[0mDbnd\u001b[0m\u001b[0;34m(\u001b[0m\u001b[0mN\u001b[0m\u001b[0;34m,\u001b[0m\u001b[0mdVC\u001b[0m\u001b[0;34m,\u001b[0m\u001b[0mdelta\u001b[0m\u001b[0;34m)\u001b[0m\u001b[0;34m)\u001b[0m\u001b[0;34m)\u001b[0m\u001b[0;34m\u001b[0m\u001b[0m\n",
      "\u001b[0;32m<ipython-input-453-456defa60193>\u001b[0m in \u001b[0;36mPVdBbnd\u001b[0;34m(N, dVC, delta)\u001b[0m\n\u001b[1;32m     26\u001b[0m     \u001b[0mtol\u001b[0m \u001b[0;34m=\u001b[0m \u001b[0;36m10000000\u001b[0m\u001b[0;34m\u001b[0m\u001b[0m\n\u001b[1;32m     27\u001b[0m     \u001b[0;32mwhile\u001b[0m \u001b[0;34m(\u001b[0m\u001b[0mtol\u001b[0m \u001b[0;34m>\u001b[0m \u001b[0;36m0.00000000001\u001b[0m\u001b[0;34m)\u001b[0m\u001b[0;34m:\u001b[0m\u001b[0;34m\u001b[0m\u001b[0m\n\u001b[0;32m---> 28\u001b[0;31m         \u001b[0me2\u001b[0m \u001b[0;34m=\u001b[0m \u001b[0;34m(\u001b[0m\u001b[0mmath\u001b[0m\u001b[0;34m.\u001b[0m\u001b[0msqrt\u001b[0m\u001b[0;34m(\u001b[0m\u001b[0;34m(\u001b[0m\u001b[0;36m2\u001b[0m\u001b[0;34m*\u001b[0m\u001b[0me1\u001b[0m\u001b[0;34m+\u001b[0m\u001b[0mmath\u001b[0m\u001b[0;34m.\u001b[0m\u001b[0mlog\u001b[0m\u001b[0;34m(\u001b[0m\u001b[0;34m(\u001b[0m\u001b[0;36m6\u001b[0m\u001b[0;34m*\u001b[0m\u001b[0mgrfn\u001b[0m\u001b[0;34m(\u001b[0m\u001b[0;36m2\u001b[0m\u001b[0;34m*\u001b[0m\u001b[0mN\u001b[0m\u001b[0;34m,\u001b[0m\u001b[0mdVC\u001b[0m\u001b[0;34m)\u001b[0m\u001b[0;34m)\u001b[0m\u001b[0;34m/\u001b[0m\u001b[0mdelta\u001b[0m\u001b[0;34m)\u001b[0m\u001b[0;34m)\u001b[0m\u001b[0;34m/\u001b[0m\u001b[0mN\u001b[0m\u001b[0;34m)\u001b[0m\u001b[0;34m)\u001b[0m\u001b[0;34m\u001b[0m\u001b[0m\n\u001b[0m\u001b[1;32m     29\u001b[0m         \u001b[0mtol\u001b[0m \u001b[0;34m=\u001b[0m \u001b[0mabs\u001b[0m\u001b[0;34m(\u001b[0m\u001b[0me2\u001b[0m \u001b[0;34m-\u001b[0m \u001b[0me1\u001b[0m\u001b[0;34m)\u001b[0m\u001b[0;34m\u001b[0m\u001b[0m\n\u001b[1;32m     30\u001b[0m \u001b[0;31m#         print(\"Step {} : {} : diff : {}\".format(i,e2,e2-e1))\u001b[0m\u001b[0;34m\u001b[0m\u001b[0;34m\u001b[0m\u001b[0m\n",
      "\u001b[0;32m<ipython-input-453-456defa60193>\u001b[0m in \u001b[0;36mgrfn\u001b[0;34m(N, dVC)\u001b[0m\n\u001b[1;32m      8\u001b[0m \u001b[0;31m# #     print(math.pow(N,dVC))\u001b[0m\u001b[0;34m\u001b[0m\u001b[0;34m\u001b[0m\u001b[0m\n\u001b[1;32m      9\u001b[0m \u001b[0;31m#     return(sum)\u001b[0m\u001b[0;34m\u001b[0m\u001b[0;34m\u001b[0m\u001b[0m\n\u001b[0;32m---> 10\u001b[0;31m     \u001b[0;32mreturn\u001b[0m\u001b[0;34m(\u001b[0m\u001b[0mmath\u001b[0m\u001b[0;34m.\u001b[0m\u001b[0mpow\u001b[0m\u001b[0;34m(\u001b[0m\u001b[0mN\u001b[0m\u001b[0;34m,\u001b[0m\u001b[0mdVC\u001b[0m\u001b[0;34m)\u001b[0m\u001b[0;34m)\u001b[0m\u001b[0;34m\u001b[0m\u001b[0m\n\u001b[0m\u001b[1;32m     11\u001b[0m \u001b[0;34m\u001b[0m\u001b[0m\n\u001b[1;32m     12\u001b[0m \u001b[0;32mdef\u001b[0m \u001b[0mvcbnd\u001b[0m\u001b[0;34m(\u001b[0m\u001b[0mN\u001b[0m\u001b[0;34m,\u001b[0m\u001b[0mdVC\u001b[0m\u001b[0;34m,\u001b[0m\u001b[0mdelta\u001b[0m\u001b[0;34m)\u001b[0m\u001b[0;34m:\u001b[0m\u001b[0;34m\u001b[0m\u001b[0m\n",
      "\u001b[0;31mOverflowError\u001b[0m: math range error"
     ]
    }
   ],
   "source": [
    "def hw3():\n",
    "    dVC = 50\n",
    "    delta = 0.05\n",
    "    N = 1000000\n",
    "    print(\"VC Bound : {}\".format(vcbnd(N,dVC,delta)))\n",
    "\n",
    "    print(\"RP Bound : {}\".format(RPbnd(N,dVC,delta)))\n",
    "\n",
    "    print(\"PVdB Bound : {}\".format(PVdBbnd(N,dVC,delta)))\n",
    "\n",
    "    print(\"D Bound : {}\".format(Dbnd(N,dVC,delta)))\n",
    "hw3()"
   ]
  },
  {
   "cell_type": "code",
   "execution_count": 584,
   "metadata": {
    "collapsed": false
   },
   "outputs": [
    {
     "name": "stdout",
     "output_type": "stream",
     "text": [
      "5.7551997756 -1.48748328257\n",
      "Bias : 3.6481419240990616\n",
      "Variance : 0.0\n",
      "Expected OOS Error : 3.6481419240990616\n"
     ]
    },
    {
     "data": {
      "image/png": "[encoded data removed]",
      "text/plain": [
       "<matplotlib.figure.Figure at 0x12dec77f0>"
      ]
     },
     "metadata": {},
     "output_type": "display_data"
    }
   ],
   "source": [
    "def hw4():\n",
    "    numtries = 1000\n",
    "    trials = 1\n",
    "    X = np.array([(-1+2/numtries*x) for x in range(numtries+1)])\n",
    "#     y = np.array([math.sin(i) for i in X*math.pi])\n",
    "    y = np.array([math.sin(math.pi*x) for x in X])\n",
    "    \n",
    "    a_d = np.zeros(trials)\n",
    "    b_d = np.zeros(trials)\n",
    "    \n",
    "    plt.figure(figsize=(10,10))\n",
    "    plt.xlim([-1.1,1.1])\n",
    "    plt.ylim([-1.1,1.1])\n",
    "    \n",
    "    plt.plot(X,y,c='r',linewidth=1)\n",
    "    for trial in range(trials):\n",
    "        p1 = random.randint(0,numtries-1)\n",
    "        p2 = random.randint(0,numtries-1)\n",
    "        x1 = X[p1]\n",
    "        x2 = X[p2]\n",
    "        y1 = y[p1]\n",
    "        y2 = y[p2]\n",
    "        plt.scatter([x1,x2],[y1,y2],c='r')\n",
    "\n",
    "#         # form y = b so a constant\n",
    "#         b = (y1+y2)/2\n",
    "#         b_d[trial] = b\n",
    "#         plt.plot([-1,1],[b,b],c='gray',alpha=0.1)\n",
    "        \n",
    "#         # form y = ax so no intercept term added to the X vector\n",
    "#         X2 = (np.array([[x1*x1],[x2*x2]]))\n",
    "#         Y2 = (np.array([[y1],[y2]]))\n",
    "#         w = linearRegress(X2,Y2)\n",
    "#         a_d[trial] = (w[0][0])\n",
    "#         plt.plot([-1,1],[-a_d[trial],a_d[trial]],c='gray',alpha=0.1)\n",
    "#         y_t = np.array([a_d[trial]*x*x for x in X])\n",
    "#         plt.plot(X,y_t,c='gray',alpha=0.3)\n",
    "\n",
    "\n",
    "#         # form y = ax + b\n",
    "        X2 = (np.array([[1,x1*x1],[1,x2*x2]]))\n",
    "        Y2 = (np.array([[y1],[y2]]))\n",
    "        w = linearRegress(X2,Y2)\n",
    "        b_d[trial] = w[0][0]\n",
    "        a_d[trial] = w[1][0]\n",
    "#         plt.plot([-1,1],[-a_d[trial]+b_d[trial],a_d[trial]+b_d[trial]],c='gray',alpha=0.4)\n",
    "        y_t = np.array([a_d[trial]*x*x+b_d[trial] for x in X])\n",
    "        plt.plot(X,y_t,c='gray',alpha=0.3)\n",
    "\n",
    "    \n",
    "    \n",
    "\n",
    "    # form y = ax\n",
    "    avg_a = sum(a_d)/trials\n",
    "    avg_b = sum(b_d)/trials\n",
    "    print(avg_a,avg_b)\n",
    "    \n",
    "        # Bias for y = b\n",
    "#     bias = sum((y-avg_b)**2)/numtries\n",
    "\n",
    "    # Bias for y = ax\n",
    "#     bias = (sum(((X**2)*avg_a-y)**2)/numtries)\n",
    "\n",
    "    # Bias for y = ax + b\n",
    "    bias = (sum((((X**2)*avg_a+avg_b)-y)**2)/numtries)\n",
    "\n",
    "\n",
    "    varsum = 0\n",
    "    for idx in range(numtries+1):\n",
    "        \n",
    "        eDsum = 0\n",
    "        for trial in range(trials):\n",
    "\n",
    "            # Variance for y = b\n",
    "#             gDx = b_d[trial]\n",
    "#             gBx = avg_b\n",
    "\n",
    "            # Variance for y = ax\n",
    "#             gDx = a_d[trial]*X[idx]*X[idx]\n",
    "#             gBx = avg_a*X[idx]*X[idx]\n",
    "        \n",
    "            # Variance for y = ax+b\n",
    "            gDx = a_d[trial]*X[idx]*X[idx] + b_d[trial]\n",
    "            gBx = avg_a*X[idx]*X[idx]+avg_b\n",
    "        \n",
    "            eDsum = eDsum+(gDx-gBx)**2\n",
    "        eD = eDsum/trials\n",
    "        varsum = varsum+eD\n",
    "    variance = varsum/numtries\n",
    "    print(\"Bias : {}\\nVariance : {}\".format(bias,variance))\n",
    "    print(\"Expected OOS Error : {}\".format(bias + variance))\n",
    "    y_t = np.array([avg_a*x*x+avg_b for x in X])\n",
    "    plt.plot(X,y_t,c='blue')\n",
    "\n",
    "#     plt.plot([-1,1],[m_avg,m_avg],c='blue',linewidth=2)\n",
    "\n",
    "\n",
    "    plt.show()\n",
    "\n",
    "    \n",
    "    \n",
    "    \n",
    "hw4()"
   ]
  },
  {
   "cell_type": "markdown",
   "metadata": {},
   "source": [
    "### y = b\n",
    "0.0 0.00195226359863\n",
    "\n",
    "Bias : 0.5000038151444909\n",
    "\n",
    "Variance : 0.24930231827163774\n",
    "\n",
    "Expected OOS Error : 0.7493061334161286\n",
    "\n",
    "### y = ax\n",
    "1.43950845935 0.0\n",
    "\n",
    "Bias : 0.27638523476292404\n",
    "\n",
    "Variance : 0.23800571544057217\n",
    "\n",
    "Expected OOS Error : 0.5143909502034962\n",
    "\n",
    "### y = ax+b\n",
    "0.788059766039 0.00761441811897\n",
    "\n",
    "Bias : 0.2059994428212849\n",
    "\n",
    "Variance : 1.7410951863628643\n",
    "\n",
    "Expected OOS Error : 1.947094629184149\n",
    "\n",
    "### y = ax^2\n",
    "\n",
    "0.0226791132748 0.0\n",
    "\n",
    "Bias : 0.5001033834637539\n",
    "\n",
    "Variance : 12.725626834711404\n",
    "\n",
    "Expected OOS Error : 13.225730218175158"
   ]
  },
  {
   "cell_type": "code",
   "execution_count": 469,
   "metadata": {
    "collapsed": false
   },
   "outputs": [
    {
     "data": {
      "text/plain": [
       "array([1, 4, 9])"
      ]
     },
     "execution_count": 469,
     "metadata": {},
     "output_type": "execute_result"
    }
   ],
   "source": [
    "np.array([1,2,3])**2"
   ]
  },
  {
   "cell_type": "code",
   "execution_count": 515,
   "metadata": {
    "collapsed": false
   },
   "outputs": [
    {
     "data": {
      "text/plain": [
       "49.0"
      ]
     },
     "execution_count": 515,
     "metadata": {},
     "output_type": "execute_result"
    }
   ],
   "source": [
    "#5 idenit 245 cms\n",
    "245/5\n"
   ]
  },
  {
   "cell_type": "code",
   "execution_count": null,
   "metadata": {
    "collapsed": true
   },
   "outputs": [],
   "source": [
    "36\n",
    "\n",
    "1 36 : 74 \n",
    "2 18 : 40\n",
    "3 12 : 30\n",
    "4 9  : 26\n",
    "6 6  : 24"
   ]
  }
 ],
 "metadata": {
  "kernelspec": {
   "display_name": "Python [Root]",
   "language": "python",
   "name": "Python [Root]"
  },
  "language_info": {
   "codemirror_mode": {
    "name": "ipython",
    "version": 3
   },
   "file_extension": ".py",
   "mimetype": "text/x-python",
   "name": "python",
   "nbconvert_exporter": "python",
   "pygments_lexer": "ipython3",
   "version": "3.5.2"
  }
 },
 "nbformat": 4,
 "nbformat_minor": 0
}
